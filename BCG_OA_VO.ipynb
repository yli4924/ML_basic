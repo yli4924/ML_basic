{
 "cells": [
  {
   "cell_type": "code",
   "execution_count": 12,
   "metadata": {},
   "outputs": [],
   "source": [
    "#168 Excel Sheet column title ML OA\n",
    "def convertToTitle(self, columnNumber: int) -> str:\n",
    "    capitals = [chr(x) for x in range(ord(\"A\"), ord(\"Z\")+1)]\n",
    "    res = []\n",
    "    while columnNumber > 0:\n",
    "        res.append(capitals[(columnNumber-1)%26])\n",
    "        columnNumber = (columnNumber-1)//26\n",
    "    res.reverse()\n",
    "    return \"\".join(res)"
   ]
  },
  {
   "cell_type": "code",
   "execution_count": 104,
   "metadata": {},
   "outputs": [
    {
     "name": "stdout",
     "output_type": "stream",
     "text": [
      "3\n",
      "5\n"
     ]
    }
   ],
   "source": [
    "class Node:\n",
    "    def __init__(self,val) -> None:\n",
    "        self.val = val\n",
    "        self.next = None\n",
    "        self.prev = None\n",
    "class Queue:\n",
    "    def __init__(self, k) -> None:\n",
    "        self.Maxsize = k\n",
    "        self.curSize = 0\n",
    "        self.head = self.tail = Node(-1)\n",
    "        self.head.next = self.tail\n",
    "        self.tail.prev = self.head\n",
    "    \n",
    "    def enQueue(self, val):\n",
    "        if self.curSize < self.Maxsize:\n",
    "            node = Node(val)\n",
    "            node.prev = self.tail.prev\n",
    "            self.tail.prev.next = node\n",
    "            node.next = self.tail\n",
    "            self.tail.prev = node\n",
    "            self.curSize += 1\n",
    "        return False\n",
    "    def deQueue(self):\n",
    "        if self.curSize > 0:\n",
    "            node = self.head.next\n",
    "            node.prev.next = node.next\n",
    "            node.next.prev = node.prev\n",
    "            self.curSize -= 1\n",
    "            return True\n",
    "        return False\n",
    "    def Front(self):\n",
    "        return self.head.next.val\n",
    "    def Rear(self):\n",
    "        return self.tail.prev.val\n",
    "q = Queue(4)\n",
    "q.enQueue(1)\n",
    "q.enQueue(3)\n",
    "\n",
    "q.enQueue(5)\n",
    "q.deQueue()\n",
    "print(q.Front())\n",
    "print(q.Rear())"
   ]
  },
  {
   "cell_type": "code",
   "execution_count": 19,
   "metadata": {},
   "outputs": [],
   "source": [
    "#694 Number of distinct islands OA\n",
    "\n",
    "def numDistinctIslands(grid):\n",
    "    shapes = set()\n",
    "    queue = []\n",
    "        \n",
    "    n = len(grid)\n",
    "    m = len(grid[0])\n",
    "        \n",
    "    for r in range(n):\n",
    "        for c in range(m):\n",
    "            if grid[r][c] == 1:\n",
    "                queue.append((r, c))\n",
    "                shape = []\n",
    "                    \n",
    "                while queue:\n",
    "                    row, col = queue.pop(0)\n",
    "                    for nr, nc in (row + 1, col), (row - 1, col), (row, col +  1), (row, col - 1):\n",
    "                        if 0 <= nr < n and 0 <= nc < m and grid[nr][nc] == 1:\n",
    "                            queue.append((nr, nc))\n",
    "                            shape.append((nr - r, nc - c))\n",
    "                            grid[nr][nc] = 0\n",
    "\n",
    "                shapes.add(tuple(shape))\n",
    "                    \n",
    "    return len(shapes)"
   ]
  },
  {
   "cell_type": "code",
   "execution_count": 39,
   "metadata": {},
   "outputs": [
    {
     "name": "stdout",
     "output_type": "stream",
     "text": [
      "[[2, 1], [1, 2], [4, 3, 2, 1], [4, 3, 1, 2], [3, 4, 2, 1], [3, 4, 1, 2], [5, 2, 1], [5, 1, 2], [5, 3, 1]]\n"
     ]
    }
   ],
   "source": [
    "#AI solution engineer OA\n",
    "def maxEarning(pickup, drop, tips):\n",
    "    stack = []\n",
    "    drives = [(x,y,y-x+t) for x,y,t in zip(pickup, drop, tips)]\n",
    "    drives.sort(key=lambda x:x[1])\n",
    "    for i in range(len(drives)):\n",
    "        if stack and stack[-1][1]>drives[i][0]:\n",
    "            if stack[-1][0]< drives[i][2]:\n",
    "                stack[-1] = (drives[i][2], drives[i][1])\n",
    "        else:\n",
    "            stack.append([drives[i][2], drives[i][1]])\n",
    "    #print(stack)\n",
    "    return sum(x[0] for x in stack)\n",
    "#print(maxEarning([0,2,9,10,11,12],[5,9,11,11,14,17],[10,2,3,2,2,1]))\n",
    "\n",
    "def parityPermutation(n):\n",
    "    if n <=1: return [n]\n",
    "    #nums = [x for x in range(1,n+1)]\n",
    "\n",
    "    even = [x for x in range(1,n+1) if x%2==0]\n",
    "    odd = [x for x in range(1,n+1) if x%2!=0]\n",
    "    res = []\n",
    "    def dfs(even, odd, path, res):\n",
    "        if not even and not odd:\n",
    "            res.append(path)\n",
    "            return\n",
    "        i = j = 0\n",
    "        while i < len(even) and j < len(odd):\n",
    "            dfs(even[:i], odd[:j], path+[even[i], odd[j]], res)\n",
    "            dfs(even[:i], odd[:j], path+[odd[j],even[i]], res)\n",
    "            i += 1\n",
    "            j += 1\n",
    "        if i < len(even):\n",
    "            dfs(even[:i],odd[:(j-1)],path+[even[i]], res)\n",
    "            i+= 1\n",
    "        if j < len(odd):\n",
    "            dfs(even[:i-1],odd[:j],path+[odd[j]], res)\n",
    "            j += 1\n",
    "            #dfs(nums[:i]+nums[(i+2):], path+[nums[i]]+[nums[i+1]], res)\n",
    "            #dfs(nums[:i]+nums[(i+2):], path+[nums[i+1]]+[nums[i]], res)\n",
    "    dfs(even, odd, [], res)\n",
    " \n",
    "    return res\n",
    "print(parityPermutation(5))"
   ]
  },
  {
   "cell_type": "code",
   "execution_count": null,
   "metadata": {},
   "outputs": [
    {
     "name": "stdout",
     "output_type": "stream",
     "text": [
      "5\n"
     ]
    }
   ],
   "source": [
    "#204 Count Primes\n",
    "def countPrimes(n):\n",
    "    if n < 3: return 0\n",
    "    primes = [1] * n\n",
    "    primes[0] = primes[1] = 0\n",
    "    for i in range(2, int(n ** 0.5) + 1):\n",
    "        if primes[i]:\n",
    "            for j in range(i*i,n,i):\n",
    "                primes[j] = 0\n",
    "    return sum(primes)\n",
    "print(countPrimes(12))"
   ]
  },
  {
   "cell_type": "code",
   "execution_count": 17,
   "metadata": {},
   "outputs": [
    {
     "name": "stdout",
     "output_type": "stream",
     "text": [
      "YES\n",
      "after: [1, 3, 2, 5, 4]\n",
      "None\n"
     ]
    }
   ],
   "source": [
    "#Round 1 on site\n",
    "#Find Anagrams return \"yes\" or \"on\"\n",
    "from collections import Counter\n",
    "def findAnagrams(s, t):\n",
    "    s_count = Counter(s)\n",
    "    for c in t:\n",
    "        if c in s_count:\n",
    "            return \"YES\"\n",
    "    return \"NO\"\n",
    "print(findAnagrams(\"xyz\",\"axc\"))\n",
    "#280 Wiggle Sort\n",
    "def wiggleSort(nums):\n",
    "    for i in range(1, len(nums)):\n",
    "        if (i%2 == 0 and nums[i] > nums[i-1]) or (i%2 != 0 and nums[i] < nums[i-1]):\n",
    "            nums[i], nums[i-1] = nums[i-1], nums[i]\n",
    "    print(\"after:\",nums)\n",
    "print(wiggleSort([1,2,3,4,5]))"
   ]
  },
  {
   "cell_type": "code",
   "execution_count": null,
   "metadata": {},
   "outputs": [
    {
     "name": "stdout",
     "output_type": "stream",
     "text": [
      "5\n"
     ]
    }
   ],
   "source": [
    "#204 Count Primes Round1 Onsite\n",
    "def countPrimes(n):\n",
    "    if n < 3: return 0\n",
    "    primes = [1] * n\n",
    "    primes[0] = primes[1] = 0\n",
    "    for i in range(2, int(n ** 0.5) + 1):\n",
    "        if primes[i]:\n",
    "            for j in range(i*i,n,i):\n",
    "                primes[j] = 0\n",
    "    return sum(primes)\n",
    "print(countPrimes(12))"
   ]
  },
  {
   "cell_type": "code",
   "execution_count": 8,
   "metadata": {},
   "outputs": [
    {
     "name": "stdout",
     "output_type": "stream",
     "text": [
      "<__main__.TreeNode object at 0x7f7fa3172bb0>\n"
     ]
    }
   ],
   "source": [
    "#315 Count of Smaller nuumber after self AI software engineer\n",
    "def countSmaller(nums):\n",
    "    res  = [0] * len(nums)                                   \n",
    "    enum = list(enumerate(nums))                             \n",
    "    mergeSort(enum, 0, len(nums) - 1, res)\n",
    "    return res\n",
    "    \n",
    "def mergeSort(enum, start, end, res):\n",
    "    if start >= end: return\n",
    "        \n",
    "    mid = start + (end - start) // 2\n",
    "    mergeSort(enum, start, mid, res)\n",
    "    mergeSort(enum, mid + 1, end, res)\n",
    "    merge(enum, start, mid, end, res)\n",
    "    \n",
    "def merge(enum, start, mid, end, res):\n",
    "    p, q = start, mid + 1\n",
    "    inversion_count = 0                                     \n",
    "    temp = []\n",
    "        \n",
    "    while p <= mid and q <= end:\n",
    "        if enum[p][1] <= enum[q][1]:\n",
    "            temp.append(enum[p])\n",
    "            res[enum[p][0]] += inversion_count               \n",
    "            p += 1\n",
    "        else:\n",
    "            temp.append(enum[q])\n",
    "            inversion_count += 1                           \n",
    "            q += 1\n",
    "        \n",
    "    while p <= mid:\n",
    "        temp.append(enum[p])\n",
    "        res[enum[p][0]] += inversion_count                 \n",
    "        p += 1\n",
    "        \n",
    "    while q <= end:         \n",
    "        temp.append(enum[q])\n",
    "        q += 1\n",
    "        \n",
    "    enum[start:end+1] = temp\n",
    "\n",
    "# 701 Insert into a binary search tree    \n",
    "class TreeNode:\n",
    "    def __init__(self, val=0, left=None, right=None) -> None:\n",
    "        self.val = val\n",
    "        self.left = left\n",
    "        self.right = right\n",
    "\n",
    "def insertBST(root, val):\n",
    "    if not root: return TreeNode(val)\n",
    "    if root.val > val:\n",
    "        root.left = insertBST(root.left, val)\n",
    "    else:\n",
    "        root.right = insertBST(root.right, val)\n",
    "    return root\n",
    "\n",
    "print(insertBST(TreeNode(3),2))"
   ]
  },
  {
   "cell_type": "code",
   "execution_count": 105,
   "metadata": {},
   "outputs": [
    {
     "name": "stdout",
     "output_type": "stream",
     "text": [
      "6\n"
     ]
    }
   ],
   "source": [
    "#741 OA 2019 MLE \n",
    "def cherryPickup(grid) -> int:\n",
    "    N = len(grid)\n",
    "    lookup = {}\n",
    "        \n",
    "    def dfs(c1,r1,c2,r2):\n",
    "        if c1== N-1 and r1==N-1:\n",
    "            return grid[c1][r1] if grid[c1][r1] != -1 else float(\"-inf\")\n",
    "        if c1 == N or r1==N or c2==N or r2==N or grid[c1][r1]==-1 or grid[c2][r2]==-1:\n",
    "            return float(\"-inf\")\n",
    "        key = (c1,r1,c2,r2)\n",
    "        if key in lookup: return lookup[key]\n",
    "        if c1==c2 and r1==r2:\n",
    "                cherry = grid[c1][r1]\n",
    "        else:\n",
    "            cherry = grid[c1][r1]+grid[c2][r2]\n",
    "        res = cherry + max(\n",
    "                dfs(c1+1,r1, c2+1, r2),\n",
    "                dfs(c1,r1+1, c2, r2+1),\n",
    "                dfs(c1+1,r1, c2, r2+1),\n",
    "                dfs(c1,r1+1, c2+1, r2),\n",
    "        )\n",
    "        lookup[key] = res\n",
    "        return res\n",
    "    res = dfs(0,0,0,0)\n",
    "    return res if res > 0 else 0\n",
    "\n",
    "#1801\n",
    "import heapq\n",
    "def getNumberOfBackOrders(orders):\n",
    "    buy, sell = [], []\n",
    "    for p, a, t in orders:\n",
    "        if t == 0:\n",
    "            heapq.heappush(buy, [-p,a])\n",
    "        else:\n",
    "            heapq.heappush(sell, [p,a])\n",
    "        while sell and buy and -buy[0][0] >= sell[0][0]:\n",
    "            k = min(buy[0][1], sell[0][1])\n",
    "            buy[0][1] -= k\n",
    "            sell[0][1] -= k\n",
    "            if buy[0][1] == 0: heapq.heappop(buy)\n",
    "            if sell[0][1] == 0: heapq.heappop(sell)\n",
    "    return sum(a for p,a in sell+buy)%(10**9+7)\n",
    "print(getNumberOfBackOrders([[10,5,0],[15,2,1],[25,1,1],[30,4,0]]))"
   ]
  },
  {
   "cell_type": "code",
   "execution_count": 33,
   "metadata": {},
   "outputs": [
    {
     "name": "stdout",
     "output_type": "stream",
     "text": [
      "debca\n"
     ]
    }
   ],
   "source": [
    "#Longest Common Subsequence of multiple strings. Software engineer onsite\n",
    "#2d dp\n",
    "\n",
    "import collections\n",
    "# one valid answer： d -> e -> b -> c -> a\n",
    "# topo logical sort with bfs\n",
    "def remove(n, graph):\n",
    "    for p in graph.values():\n",
    "        if n in p:\n",
    "            idx = p.index(n)\n",
    "            del p[idx]\n",
    "\n",
    "def buildOrder(graph):\n",
    "    res = []\n",
    "    visited = set()\n",
    "    q = collections.deque()\n",
    "    for key in graph:\n",
    "        if len(graph[key]) == 0:\n",
    "            q.append(key)\n",
    "    while q:\n",
    "        n = q.popleft()\n",
    "        if n in visited:\n",
    "            continue\n",
    "        visited.add(n)\n",
    "        res.append(n)\n",
    "        remove(n, graph)\n",
    "        for key in graph:\n",
    "            if len(graph[key]) == 0 and key not in visited:\n",
    "                q.append(key)\n",
    "    return \"\".join(res)\n",
    "\n",
    "graph = {\"a\":[\"b\", \"c\", \"d\"],\"b\": [\"e\"], \"c\": [\"e\"], \"d\": [],\"e\":[]}\n",
    "print(buildOrder(graph))"
   ]
  },
  {
   "cell_type": "code",
   "execution_count": 32,
   "metadata": {},
   "outputs": [
    {
     "name": "stdout",
     "output_type": "stream",
     "text": [
      "['e', 'b', 'd', 'a', 'c']\n"
     ]
    }
   ],
   "source": [
    "import collections\n",
    "def buildG(graph, alpha):\n",
    "    res = set()\n",
    "    q = collections.deque(alpha)\n",
    "    while q:\n",
    "        n = q.popleft()\n",
    "        res.add(n)\n",
    "        for neighbors in graph[n]:\n",
    "            q.append(neighbors)\n",
    "    return list(res)\n",
    "graph = {\"a\":[\"b\", \"c\", \"d\"],\"b\": [\"e\"], \"c\": [\"e\"], \"d\": [],\"e\":[]}\n",
    "print(buildG(graph, \"a\"))"
   ]
  },
  {
   "cell_type": "code",
   "execution_count": 6,
   "metadata": {},
   "outputs": [
    {
     "name": "stdout",
     "output_type": "stream",
     "text": [
      "('abcdefghijklmnopqrstuvwxyz', 'ABCDEFGHIJKLMNOPQRSTUVWXYZ', '0123456789')\n",
      "Fgh-cdE.567:234?@#\n"
     ]
    }
   ],
   "source": [
    "import string \n",
    "def caesar(text, step, alphabets):\n",
    "\n",
    "    def shift(alphabet):\n",
    "        return alphabet[step:] + alphabet[:step]\n",
    "\n",
    "    shifted_alphabets = tuple(map(shift, alphabets))\n",
    "    joined_aphabets = ''.join(alphabets)\n",
    "    joined_shifted_alphabets = ''.join(shifted_alphabets)\n",
    "    table = str.maketrans(joined_aphabets, joined_shifted_alphabets)\n",
    "    return text.translate(table)\n",
    "alphabets = (string.ascii_lowercase, string.ascii_uppercase, string.digits)\n",
    "print(alphabets)\n",
    "print(caesar('Abc-xyZ.012:789?@#', step=5, alphabets=alphabets))"
   ]
  },
  {
   "cell_type": "code",
   "execution_count": 17,
   "metadata": {},
   "outputs": [
    {
     "name": "stdout",
     "output_type": "stream",
     "text": [
      "[0, 1, 2, 3]\n"
     ]
    }
   ],
   "source": [
    "#210 course schedule II\n",
    "import collections\n",
    "def findOrder(numCourses, prerequisites):\n",
    "    edges = {i:set() for i in range(numCourses)}\n",
    "    degree = [0]*numCourses\n",
    "    q = collections.deque([])\n",
    "    res = []\n",
    "    for i, j in prerequisites:\n",
    "        edges[j].add(i)\n",
    "        degree[i] += 1\n",
    "    for i in range(numCourses):\n",
    "        if degree[i]==0:\n",
    "            q.append(i)\n",
    "    while q:\n",
    "        n=q.popleft()\n",
    "        res.append(n)\n",
    "        for i in edges[n]:\n",
    "            degree[i] -= 1\n",
    "            if degree[i] ==0:\n",
    "                q.append(i)\n",
    "    \n",
    "    return res if len(res)==numCourses else []\n",
    "print(findOrder(4,[[1,0],[2,0],[3,1],[3,2]]))"
   ]
  },
  {
   "cell_type": "code",
   "execution_count": 23,
   "metadata": {},
   "outputs": [
    {
     "name": "stdout",
     "output_type": "stream",
     "text": [
      "0\n",
      "2\n",
      "4\n",
      "[2, 1, 4, 3, 6, 5, 7]\n"
     ]
    }
   ],
   "source": [
    "def sortWave(arr):\n",
    "    for i in range(0,len(arr)-1,2):\n",
    "        print(i)\n",
    "        if i>0 and arr[i] < arr[i-1]:\n",
    "            arr[i],arr[i-1] = arr[i-1],arr[i]\n",
    "        if i<len(arr)-1 and arr[i] < arr[i+1]:\n",
    "            arr[i],arr[i+1] = arr[i+1],arr[i]\n",
    "    return arr\n",
    "\n",
    "print(sortWave([1,2,3,4,5,6,7]))\n"
   ]
  }
 ],
 "metadata": {
  "kernelspec": {
   "display_name": "Python 3.9.0 64-bit",
   "language": "python",
   "name": "python3"
  },
  "language_info": {
   "codemirror_mode": {
    "name": "ipython",
    "version": 3
   },
   "file_extension": ".py",
   "mimetype": "text/x-python",
   "name": "python",
   "nbconvert_exporter": "python",
   "pygments_lexer": "ipython3",
   "version": "3.9.0"
  },
  "orig_nbformat": 4,
  "vscode": {
   "interpreter": {
    "hash": "aee8b7b246df8f9039afb4144a1f6fd8d2ca17a180786b69acc140d282b71a49"
   }
  }
 },
 "nbformat": 4,
 "nbformat_minor": 2
}
