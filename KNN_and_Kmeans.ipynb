{
 "cells": [
  {
   "cell_type": "code",
   "execution_count": 4,
   "metadata": {},
   "outputs": [
    {
     "name": "stdout",
     "output_type": "stream",
     "text": [
      "(1,)\n",
      "(2,)\n",
      "(4,)\n",
      "(100,)\n",
      "(1,)\n",
      "(2,)\n",
      "(4,)\n",
      "(100,)\n",
      "[5, 200]\n"
     ]
    }
   ],
   "source": [
    "#Step 1 define distance metric\n",
    "def euc_dist(value1, value2):\n",
    "    # implement this\n",
    "    summ = 0\n",
    "    for i in range(len(value1)):\n",
    "        #print(value1,value2)\n",
    "        summ += (value1[i]-value2[i])**2\n",
    "    return summ**(0.5)\n",
    "\n",
    "#Step 2 Identify k nearest neighbors\n",
    "def k_neighbors(train_data, test_case, k):\n",
    "    # implement this\n",
    "    dis_tc = []\n",
    "    for i, td in enumerate(train_data):\n",
    "        print(td[:-1])\n",
    "        dist_ = euc_dist(td[:-1],test_case)\n",
    "        dis_tc.append([dist_, td])\n",
    "    output_ = sorted(dis_tc)\n",
    "    out=[]\n",
    "    for j in range(k):\n",
    "        out.append(output_[j][1])\n",
    "    #print(output_,'***************',out)\n",
    "    return out\n",
    "#Step 3 Assign class labels\n",
    "def get_label(train_data, test_case, k):\n",
    "    neighbors = k_neighbors(train_data, test_case, k)\n",
    "    labels = [row[-1] for row in neighbors]\n",
    "    max_label = max(set(labels), key = labels.count)\n",
    "\n",
    "    return max_label\n",
    "#Pull it together\n",
    "def solution(train_data, test_data, k):\n",
    "    final_labels = list()\n",
    "    for row in test_data:\n",
    "        label = get_label(train_data, row, k)\n",
    "        final_labels.append(label)\n",
    "    return final_labels\n",
    "print(solution([(1,2),(2,3),(4,5),(100,200)], [(5,6),(100,150)], 1))"
   ]
  },
  {
   "cell_type": "code",
   "execution_count": 2,
   "metadata": {},
   "outputs": [
    {
     "name": "stdout",
     "output_type": "stream",
     "text": [
      "[0, 0, 0, 0, 0, 1, 1]\n"
     ]
    }
   ],
   "source": [
    "import random\n",
    "import math\n",
    "import collections\n",
    "\n",
    "def calculate_distances(data, centroids):\n",
    "    \"\"\"\n",
    "    Step 1: Calculate distance between each data point and the k centroids\n",
    "    \"\"\"\n",
    "    distances = []\n",
    "    for x, y in data:\n",
    "        dis = []\n",
    "        for i, j in centroids:\n",
    "            dis.append(math.sqrt((x-i)**2+(y-j)**2))\n",
    "        distances.append(dis)\n",
    "    #print(\"distances:\",distances)\n",
    "    return distances\n",
    "    #return cdist(data, centroids, \"cosine\").tolist()\n",
    "def make_clusters(distances):\n",
    "    \"\"\"\n",
    "    Step 2: Assign each data point to it's nearest centroid\n",
    "    \"\"\"\n",
    "    clusters = []\n",
    "    for d in distances:\n",
    "        for i in range(len(d)):\n",
    "            mini = min(d)\n",
    "            if d[i] == mini:\n",
    "                clusters.append(i)\n",
    "                break\n",
    "    #print(\"clusters:\", clusters)\n",
    "    return clusters\n",
    "    # implement this\n",
    "    ...\n",
    "def update_clusters(clusters, data, k, iterations):\n",
    "    \"\"\"\n",
    "    Step 3: Average the data points in each cluster to update\n",
    "    the centroids' locations and repeat for set number of iterations\n",
    "    \"\"\"\n",
    "    new_clusters = []\n",
    "    iter = 0\n",
    "    new_centroids = [0]*k\n",
    "    dic = collections.defaultdict(list)\n",
    "    while iter <= iterations:\n",
    "        if new_clusters == clusters:\n",
    "            return new_clusters\n",
    "        for i in range(len(clusters)):\n",
    "            dic[clusters[i]].append(data[i])\n",
    "        for k,l in dic.items():\n",
    "            new_centroids[k] = [sum(s)/len(s) for s in zip(*l)]\n",
    "        distances = calculate_distances(data, new_centroids)\n",
    "        new_clusters = make_clusters(distances)\n",
    "        iter += 1\n",
    "        #print(\"new centroids\",new_centroids)\n",
    "    return new_clusters\n",
    "    ...\n",
    "# pull everything together\n",
    "def solution(data, k, centroids, interations):\n",
    "    distances = calculate_distances(data, centroids)\n",
    "    clusters = make_clusters(distances)\n",
    "    clusters = update_clusters(clusters, data, k, interations)\n",
    "    return clusters\n",
    "print(solution([(1,2),(0,1),(0,2),(12,16),(16,19),(212,202),(231,234)], 2,[(1,1),(2,2)], 2))"
   ]
  },
  {
   "cell_type": "code",
   "execution_count": null,
   "metadata": {},
   "outputs": [],
   "source": [
    "class Solution:\n",
    "    def minimizeResult(self, expression: str) -> str:\n",
    "        first, second = expression.split(\"+\")\n",
    "        score = float('inf')\n",
    "        for i in range(len(first)):\n",
    "            num1 = int(first[:i]) if i != 0 else 1\n",
    "            num2 = int(first[i:])\n",
    "            for j in range(1, len(second)+1):\n",
    "                num3 = int(second[:j])\n",
    "                num4 = int(second[j:]) if j != len(second) else 1\n",
    "                tem_score = num1*(num2+num3)*num4\n",
    "                if tem_score < score:\n",
    "                    score = tem_score\n",
    "        return score"
   ]
  }
 ],
 "metadata": {
  "kernelspec": {
   "display_name": "Python 3.8.8 ('base')",
   "language": "python",
   "name": "python3"
  },
  "language_info": {
   "codemirror_mode": {
    "name": "ipython",
    "version": 3
   },
   "file_extension": ".py",
   "mimetype": "text/x-python",
   "name": "python",
   "nbconvert_exporter": "python",
   "pygments_lexer": "ipython3",
   "version": "3.8.8"
  },
  "orig_nbformat": 4,
  "vscode": {
   "interpreter": {
    "hash": "c60e1546e717a33657375132b5ef8db45d37f001b585af5337cd41bbd1753de5"
   }
  }
 },
 "nbformat": 4,
 "nbformat_minor": 2
}
