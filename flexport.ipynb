{
 "cells": [
  {
   "cell_type": "code",
   "execution_count": 4,
   "metadata": {},
   "outputs": [
    {
     "name": "stdout",
     "output_type": "stream",
     "text": [
      "anagram: 3\n"
     ]
    }
   ],
   "source": [
    "#Anagram\n",
    "import collections\n",
    "def anagram(s):\n",
    "    if len(s) %2 != 0:\n",
    "        return -1\n",
    "    l = len(s)\n",
    "    res = 0\n",
    "    word1, word2 = s[:l//2], s[l//2:]\n",
    "    word_count = collections.Counter(word1)\n",
    "    for c in word2:\n",
    "        if word_count[c] > 0:\n",
    "            word_count[c] -= 1\n",
    "        else:\n",
    "            res += 1\n",
    "    return res\n",
    "print(\"anagram:\", anagram(\"aaabbb\"))"
   ]
  },
  {
   "cell_type": "code",
   "execution_count": 1,
   "metadata": {},
   "outputs": [
    {
     "name": "stdout",
     "output_type": "stream",
     "text": [
      "6\n"
     ]
    }
   ],
   "source": [
    "def minadd(nums):\n",
    "    mi = min(nums)\n",
    "    res = 0\n",
    "    for n in nums:\n",
    "        res += n-mi\n",
    "    return res\n",
    "print(minadd([3,4,5,4,5]))"
   ]
  },
  {
   "cell_type": "code",
   "execution_count": 3,
   "metadata": {},
   "outputs": [
    {
     "name": "stdout",
     "output_type": "stream",
     "text": [
      "6\n"
     ]
    }
   ],
   "source": [
    "import collections\n",
    "def shortestPath(grid, k):\n",
    "    n, m = len(grid), len(grid[0])\n",
    "    if n == 1 and m == 1: return 0\n",
    "    if k >= n-1+m-1:\n",
    "        return n-1+m-1\n",
    "\n",
    "    q = collections.deque([(0,0,k,0)])\n",
    "    visited = set([(0,0,k)])\n",
    "\n",
    "    while q:\n",
    "        i,j,k,steps = q.popleft()\n",
    "        if grid[i][j] == 1:\n",
    "            for x, y in ((i-1,j), (i+1,j), (i, j-1), (i,j+1)):\n",
    "                if 0<=x<n and 0<=y<m and k > 0 and (x,y,k-1) not in visited:\n",
    "                    q.append((x,y,k-1, steps+1))\n",
    "        elif grid[i][j] == 0:\n",
    "            if i==n-1 and j==m-1:\n",
    "                return steps\n",
    "            for x, y in ((i-1,j), (i+1,j), (i, j-1), (i,j+1)):\n",
    "                if 0<=x<n and 0<=y<m and (x,y,k) not in visited:\n",
    "                    q.append((x,y,k, steps+1))\n",
    "    return -1\n",
    "print(shortestPath([[0,0,0],[1,1,0],[0,0,0],[0,1,1],[0,0,0]],1))"
   ]
  },
  {
   "cell_type": "code",
   "execution_count": 37,
   "metadata": {},
   "outputs": [
    {
     "name": "stdout",
     "output_type": "stream",
     "text": [
      "44719\n"
     ]
    }
   ],
   "source": [
    "def getMaximumJobs(n,m,k):\n",
    "    arr = [1]*n\n",
    "    sums = n\n",
    "    k -= 1\n",
    "    res = 1\n",
    "    while sums <= m:\n",
    "        arr[k] += 1\n",
    "        res = arr[k]\n",
    "        for i in range(k-1, -1, -1):\n",
    "            if arr[i+1]-arr[i] > 1:\n",
    "                arr[i] += 1\n",
    "            else:\n",
    "                break\n",
    "        for i in range(k+1, n):\n",
    "            if arr[i-1]-arr[i] > 1:\n",
    "                arr[i] += 1\n",
    "            else:\n",
    "                break\n",
    "        #print(arr)\n",
    "        sums = sum(arr)\n",
    "    return res-1\n",
    "print(getMaximumJobs(10**5,10**9,1))"
   ]
  },
  {
   "cell_type": "code",
   "execution_count": 36,
   "metadata": {},
   "outputs": [
    {
     "name": "stdout",
     "output_type": "stream",
     "text": [
      "59999\n"
     ]
    }
   ],
   "source": [
    "def getMaximumJobs2(n,m,k):\n",
    "    i = 1\n",
    "    left = 0\n",
    "    j = 1\n",
    "    right = 0\n",
    "    for i in range(k-1):\n",
    "        i += 1\n",
    "        left += i\n",
    "        #print(\"left\",i, left)\n",
    "    for j in range(n-k):\n",
    "        j += 1\n",
    "        right += j\n",
    "        #print(\"right\", j, right)\n",
    "    x = (m+left+right)//n\n",
    "    return x\n",
    "print(getMaximumJobs2(10**5,10**9,1))"
   ]
  },
  {
   "cell_type": "code",
   "execution_count": 82,
   "metadata": {},
   "outputs": [
    {
     "ename": "RecursionError",
     "evalue": "maximum recursion depth exceeded in comparison",
     "output_type": "error",
     "traceback": [
      "\u001b[0;31m---------------------------------------------------------------------------\u001b[0m",
      "\u001b[0;31mRecursionError\u001b[0m                            Traceback (most recent call last)",
      "\u001b[0;32m<ipython-input-82-fd4b58be903a>\u001b[0m in \u001b[0;36m<module>\u001b[0;34m\u001b[0m\n\u001b[1;32m     20\u001b[0m \u001b[0;34m\u001b[0m\u001b[0m\n\u001b[1;32m     21\u001b[0m \u001b[0;34m\u001b[0m\u001b[0m\n\u001b[0;32m---> 22\u001b[0;31m \u001b[0mprint\u001b[0m\u001b[0;34m(\u001b[0m\u001b[0mhe\u001b[0m\u001b[0;34m(\u001b[0m\u001b[0;36m5\u001b[0m\u001b[0;34m,\u001b[0m\u001b[0;36m10\u001b[0m\u001b[0;34m,\u001b[0m\u001b[0;36m2\u001b[0m\u001b[0;34m)\u001b[0m\u001b[0;34m)\u001b[0m\u001b[0;34m\u001b[0m\u001b[0;34m\u001b[0m\u001b[0m\n\u001b[0m",
      "\u001b[0;32m<ipython-input-82-fd4b58be903a>\u001b[0m in \u001b[0;36mhe\u001b[0;34m(n, m, k)\u001b[0m\n\u001b[1;32m     14\u001b[0m     \u001b[0mnums\u001b[0m \u001b[0;34m=\u001b[0m \u001b[0;34m[\u001b[0m\u001b[0;34m]\u001b[0m\u001b[0;34m\u001b[0m\u001b[0;34m\u001b[0m\u001b[0m\n\u001b[1;32m     15\u001b[0m     \u001b[0;32mfor\u001b[0m \u001b[0mi\u001b[0m \u001b[0;32min\u001b[0m \u001b[0mrange\u001b[0m\u001b[0;34m(\u001b[0m\u001b[0;36m1\u001b[0m\u001b[0;34m,\u001b[0m \u001b[0mm\u001b[0m\u001b[0;34m+\u001b[0m\u001b[0;36m1\u001b[0m\u001b[0;34m)\u001b[0m\u001b[0;34m:\u001b[0m\u001b[0;34m\u001b[0m\u001b[0;34m\u001b[0m\u001b[0m\n\u001b[0;32m---> 16\u001b[0;31m         \u001b[0;32mif\u001b[0m \u001b[0mdfs\u001b[0m\u001b[0;34m(\u001b[0m\u001b[0mi\u001b[0m\u001b[0;34m,\u001b[0m \u001b[0mm\u001b[0m\u001b[0;34m,\u001b[0m \u001b[0;34m[\u001b[0m\u001b[0;34m]\u001b[0m\u001b[0;34m,\u001b[0m \u001b[0mres\u001b[0m\u001b[0;34m,\u001b[0m \u001b[0mn\u001b[0m\u001b[0;34m)\u001b[0m\u001b[0;34m:\u001b[0m\u001b[0;34m\u001b[0m\u001b[0;34m\u001b[0m\u001b[0m\n\u001b[0m\u001b[1;32m     17\u001b[0m             \u001b[0mres\u001b[0m \u001b[0;34m=\u001b[0m \u001b[0mdfs\u001b[0m\u001b[0;34m(\u001b[0m\u001b[0mi\u001b[0m\u001b[0;34m,\u001b[0m \u001b[0mm\u001b[0m\u001b[0;34m,\u001b[0m \u001b[0;34m[\u001b[0m\u001b[0;34m]\u001b[0m\u001b[0;34m,\u001b[0m \u001b[0mres\u001b[0m\u001b[0;34m,\u001b[0m \u001b[0mn\u001b[0m\u001b[0;34m)\u001b[0m\u001b[0;34m\u001b[0m\u001b[0;34m\u001b[0m\u001b[0m\n\u001b[1;32m     18\u001b[0m         \u001b[0mprint\u001b[0m\u001b[0;34m(\u001b[0m\u001b[0mre\u001b[0m\u001b[0;34m)\u001b[0m\u001b[0;34m\u001b[0m\u001b[0;34m\u001b[0m\u001b[0m\n",
      "\u001b[0;32m<ipython-input-82-fd4b58be903a>\u001b[0m in \u001b[0;36mdfs\u001b[0;34m(start, target, path, res, n)\u001b[0m\n\u001b[1;32m      8\u001b[0m         \u001b[0;32mif\u001b[0m \u001b[0mi\u001b[0m \u001b[0;34m>\u001b[0m \u001b[0mtarget\u001b[0m\u001b[0;34m:\u001b[0m\u001b[0;34m\u001b[0m\u001b[0;34m\u001b[0m\u001b[0m\n\u001b[1;32m      9\u001b[0m             \u001b[0;32mbreak\u001b[0m\u001b[0;34m\u001b[0m\u001b[0;34m\u001b[0m\u001b[0m\n\u001b[0;32m---> 10\u001b[0;31m         \u001b[0mdfs\u001b[0m\u001b[0;34m(\u001b[0m\u001b[0mi\u001b[0m\u001b[0;34m,\u001b[0m \u001b[0mtarget\u001b[0m\u001b[0;34m-\u001b[0m\u001b[0mi\u001b[0m\u001b[0;34m,\u001b[0m \u001b[0mpath\u001b[0m\u001b[0;34m+\u001b[0m\u001b[0;34m[\u001b[0m\u001b[0mi\u001b[0m\u001b[0;34m]\u001b[0m\u001b[0;34m,\u001b[0m \u001b[0mres\u001b[0m\u001b[0;34m,\u001b[0m\u001b[0mn\u001b[0m\u001b[0;34m)\u001b[0m\u001b[0;34m\u001b[0m\u001b[0;34m\u001b[0m\u001b[0m\n\u001b[0m\u001b[1;32m     11\u001b[0m \u001b[0;34m\u001b[0m\u001b[0m\n\u001b[1;32m     12\u001b[0m \u001b[0;32mdef\u001b[0m \u001b[0mhe\u001b[0m\u001b[0;34m(\u001b[0m\u001b[0mn\u001b[0m\u001b[0;34m,\u001b[0m\u001b[0mm\u001b[0m\u001b[0;34m,\u001b[0m\u001b[0mk\u001b[0m\u001b[0;34m)\u001b[0m\u001b[0;34m:\u001b[0m\u001b[0;34m\u001b[0m\u001b[0;34m\u001b[0m\u001b[0m\n",
      "... last 1 frames repeated, from the frame below ...\n",
      "\u001b[0;32m<ipython-input-82-fd4b58be903a>\u001b[0m in \u001b[0;36mdfs\u001b[0;34m(start, target, path, res, n)\u001b[0m\n\u001b[1;32m      8\u001b[0m         \u001b[0;32mif\u001b[0m \u001b[0mi\u001b[0m \u001b[0;34m>\u001b[0m \u001b[0mtarget\u001b[0m\u001b[0;34m:\u001b[0m\u001b[0;34m\u001b[0m\u001b[0;34m\u001b[0m\u001b[0m\n\u001b[1;32m      9\u001b[0m             \u001b[0;32mbreak\u001b[0m\u001b[0;34m\u001b[0m\u001b[0;34m\u001b[0m\u001b[0m\n\u001b[0;32m---> 10\u001b[0;31m         \u001b[0mdfs\u001b[0m\u001b[0;34m(\u001b[0m\u001b[0mi\u001b[0m\u001b[0;34m,\u001b[0m \u001b[0mtarget\u001b[0m\u001b[0;34m-\u001b[0m\u001b[0mi\u001b[0m\u001b[0;34m,\u001b[0m \u001b[0mpath\u001b[0m\u001b[0;34m+\u001b[0m\u001b[0;34m[\u001b[0m\u001b[0mi\u001b[0m\u001b[0;34m]\u001b[0m\u001b[0;34m,\u001b[0m \u001b[0mres\u001b[0m\u001b[0;34m,\u001b[0m\u001b[0mn\u001b[0m\u001b[0;34m)\u001b[0m\u001b[0;34m\u001b[0m\u001b[0;34m\u001b[0m\u001b[0m\n\u001b[0m\u001b[1;32m     11\u001b[0m \u001b[0;34m\u001b[0m\u001b[0m\n\u001b[1;32m     12\u001b[0m \u001b[0;32mdef\u001b[0m \u001b[0mhe\u001b[0m\u001b[0;34m(\u001b[0m\u001b[0mn\u001b[0m\u001b[0;34m,\u001b[0m\u001b[0mm\u001b[0m\u001b[0;34m,\u001b[0m\u001b[0mk\u001b[0m\u001b[0;34m)\u001b[0m\u001b[0;34m:\u001b[0m\u001b[0;34m\u001b[0m\u001b[0;34m\u001b[0m\u001b[0m\n",
      "\u001b[0;31mRecursionError\u001b[0m: maximum recursion depth exceeded in comparison"
     ]
    }
   ],
   "source": [
    "def dfs(start, target, path, res, n):\n",
    "    if target < 0:\n",
    "        return \n",
    "    if target == 0 and len(path) == n:\n",
    "        res.append(path)\n",
    "        return res\n",
    "    for i in [start+1, start, start-1]:\n",
    "        if i > target:\n",
    "            break\n",
    "        dfs(i, target-i, path+[i], res,n)\n",
    "\n",
    "def he(n,m,k):\n",
    "    res = []\n",
    "    nums = []\n",
    "    for i in range(1, m+1):\n",
    "        if dfs(i, m, [], res, n):\n",
    "            res = dfs(i, m, [], res, n)\n",
    "        print(res)\n",
    "    \n",
    "\n",
    "    \n",
    "print(he(5,10,2))"
   ]
  }
 ],
 "metadata": {
  "kernelspec": {
   "display_name": "Python 3.8.8 ('base')",
   "language": "python",
   "name": "python3"
  },
  "language_info": {
   "codemirror_mode": {
    "name": "ipython",
    "version": 3
   },
   "file_extension": ".py",
   "mimetype": "text/x-python",
   "name": "python",
   "nbconvert_exporter": "python",
   "pygments_lexer": "ipython3",
   "version": "3.8.8"
  },
  "orig_nbformat": 4,
  "vscode": {
   "interpreter": {
    "hash": "c60e1546e717a33657375132b5ef8db45d37f001b585af5337cd41bbd1753de5"
   }
  }
 },
 "nbformat": 4,
 "nbformat_minor": 2
}
