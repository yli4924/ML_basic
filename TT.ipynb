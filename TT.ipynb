{
 "cells": [
  {
   "cell_type": "code",
   "execution_count": 1,
   "metadata": {},
   "outputs": [],
   "source": [
    "#Plus one\n",
    "def plusOne(digits):\n",
    "    i = len(digits) - 1\n",
    "    while i >= 0:\n",
    "        if digits[i] < 9:\n",
    "            digits[i] += 1\n",
    "            return digits\n",
    "        digits[i] = 0\n",
    "        i -= 1\n",
    "    return [1]+ [0]*len(digits)"
   ]
  },
  {
   "cell_type": "code",
   "execution_count": null,
   "metadata": {},
   "outputs": [],
   "source": [
    "#1353 Maximum number of events that can be attended\n",
    "import heapq\n",
    "def maxEvents(events):\n",
    "    events.sort()\n",
    "    total_days = max(x[1] for x in events)\n",
    "    res = 0\n",
    "    heap = []\n",
    "    idx = 0\n",
    "        \n",
    "    for day in range(1, total_days+1):\n",
    "        while idx < len(events) and events[idx][0] == day:\n",
    "            heapq.heappush(heap, events[idx][1])\n",
    "            idx += 1\n",
    "            \n",
    "        while heap and heap[0] < day:\n",
    "            heapq.heappop(heap)\n",
    "            \n",
    "        if heap:\n",
    "            heapq.heappop(heap)\n",
    "            res += 1\n",
    "    return res"
   ]
  },
  {
   "cell_type": "code",
   "execution_count": 2,
   "metadata": {},
   "outputs": [],
   "source": [
    "#1416 restore the array\n",
    "def numberOfArrays(self, s, k):\n",
    "    n, mod = len(s), int(1e9) + 7\n",
    "    dp = [0] * n + [1]\n",
    "    for i in reversed(range(n)):\n",
    "        num = int(s[i])\n",
    "        for j in range(i + 1, n + 1):\n",
    "            if num < 1 or num > k: break\n",
    "            dp[i] = (dp[i] + dp[j]) % mod\n",
    "            if j < n: num = 10 * num + int(s[j])\n",
    "    return dp[0]"
   ]
  },
  {
   "cell_type": "code",
   "execution_count": 10,
   "metadata": {},
   "outputs": [
    {
     "name": "stdout",
     "output_type": "stream",
     "text": [
      "[]\n"
     ]
    }
   ],
   "source": [
    "#find all prime numbers within n \n",
    "# sieve of eratosthenes\n",
    "import math\n",
    "def sieveEratosthenes(n):\n",
    "    \n",
    "    primes = [False, False] +[True]*(n-2)\n",
    "    for i in range(2, math.isqrt(n)):\n",
    "        if primes[i]:\n",
    "            for j in range(i*i,n,i):\n",
    "                print(j)\n",
    "                primes[j] = False\n",
    "        \n",
    "    res = []\n",
    "    for i in range(len(primes)):\n",
    "        if primes[i] == True:\n",
    "            res.append(i)\n",
    "    return res\n",
    "print(sieveEratosthenes(1))\n"
   ]
  },
  {
   "cell_type": "code",
   "execution_count": 24,
   "metadata": {},
   "outputs": [
    {
     "name": "stdout",
     "output_type": "stream",
     "text": [
      "['0000', '0001', '0010', '0011', '0100', '0101', '0110', '0111', '1000', '1001', '1010', '1011', '1100', '1101', '1110', '1111']\n"
     ]
    }
   ],
   "source": [
    "#OV 1996 the number of weak characters in the game\n",
    "\n",
    "def numberOfWeakCharacters(properties):\n",
    "    properties.sort(key=lambda x:(-x[0],x[1]))\n",
    "    res = 0\n",
    "    cur_max = 0\n",
    "\n",
    "    for _, d in properties:\n",
    "        if d < cur_max:\n",
    "            res += 1\n",
    "        else:\n",
    "            cur_max = d\n",
    "    return res \n"
   ]
  },
  {
   "cell_type": "code",
   "execution_count": 14,
   "metadata": {},
   "outputs": [
    {
     "name": "stdout",
     "output_type": "stream",
     "text": [
      "5\n"
     ]
    }
   ],
   "source": [
    "from random import randint\n",
    "\n",
    "def partition(nums, left, right):\n",
    "    idx = randint(left, right)\n",
    "    pivot = nums[idx]\n",
    "    nums[idx],nums[right] = nums[right], nums[idx]\n",
    "    p_idx = left\n",
    "    for i in range(left, right+1):\n",
    "        if nums[i] > pivot:\n",
    "            nums[i],nums[p_idx] = nums[p_idx],nums[i]\n",
    "            p_idx += 1\n",
    "    nums[p_idx],nums[right] = nums[right], nums[p_idx]\n",
    "    return p_idx\n",
    "\n",
    "def quickselect(nums,left,right, k):\n",
    "    k = k-1\n",
    "    if left <= right:\n",
    "       \n",
    "        idx = partition(nums, left, right)\n",
    "        if k ==idx:\n",
    "            return nums[idx]\n",
    "        elif k <idx:\n",
    "            return quickselect(nums, left, idx-1,k)\n",
    "        else:\n",
    "            return quickselect(nums, idx+1, right, k)\n",
    "\n",
    "\n",
    "print(quickselect([1,2,4,5,3],0,4,1))"
   ]
  },
  {
   "cell_type": "code",
   "execution_count": null,
   "metadata": {},
   "outputs": [],
   "source": []
  }
 ],
 "metadata": {
  "kernelspec": {
   "display_name": "Python 3.8.8 ('base')",
   "language": "python",
   "name": "python3"
  },
  "language_info": {
   "codemirror_mode": {
    "name": "ipython",
    "version": 3
   },
   "file_extension": ".py",
   "mimetype": "text/x-python",
   "name": "python",
   "nbconvert_exporter": "python",
   "pygments_lexer": "ipython3",
   "version": "3.8.8"
  },
  "orig_nbformat": 4,
  "vscode": {
   "interpreter": {
    "hash": "c60e1546e717a33657375132b5ef8db45d37f001b585af5337cd41bbd1753de5"
   }
  }
 },
 "nbformat": 4,
 "nbformat_minor": 2
}
