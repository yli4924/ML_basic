{
 "cells": [
  {
   "cell_type": "code",
   "execution_count": 1,
   "metadata": {},
   "outputs": [],
   "source": [
    "#Plus one\n",
    "def plusOne(digits):\n",
    "    i = len(digits) - 1\n",
    "    while i >= 0:\n",
    "        if digits[i] < 9:\n",
    "            digits[i] += 1\n",
    "            return digits\n",
    "        digits[i] = 0\n",
    "        i -= 1\n",
    "    return [1]+ [0]*len(digits)"
   ]
  },
  {
   "cell_type": "code",
   "execution_count": null,
   "metadata": {},
   "outputs": [],
   "source": [
    "#1353 Maximum number of events that can be attended\n",
    "import heapq\n",
    "def maxEvents(events):\n",
    "    events.sort()\n",
    "    total_days = max(x[1] for x in events)\n",
    "    res = 0\n",
    "    heap = []\n",
    "    idx = 0\n",
    "        \n",
    "    for day in range(1, total_days+1):\n",
    "        while idx < len(events) and events[idx][0] == day:\n",
    "            heapq.heappush(heap, events[idx][1])\n",
    "            idx += 1\n",
    "            \n",
    "        while heap and heap[0] < day:\n",
    "            heapq.heappop(heap)\n",
    "            \n",
    "        if heap:\n",
    "            heapq.heappop(heap)\n",
    "            res += 1\n",
    "    return res"
   ]
  },
  {
   "cell_type": "code",
   "execution_count": 2,
   "metadata": {},
   "outputs": [],
   "source": [
    "#1416 restore the array\n",
    "def numberOfArrays(self, s, k):\n",
    "    n, mod = len(s), int(1e9) + 7\n",
    "    dp = [0] * n + [1]\n",
    "    for i in reversed(range(n)):\n",
    "        num = int(s[i])\n",
    "        for j in range(i + 1, n + 1):\n",
    "            if num < 1 or num > k: break\n",
    "            dp[i] = (dp[i] + dp[j]) % mod\n",
    "            if j < n: num = 10 * num + int(s[j])\n",
    "    return dp[0]"
   ]
  },
  {
   "cell_type": "code",
   "execution_count": 10,
   "metadata": {},
   "outputs": [
    {
     "name": "stdout",
     "output_type": "stream",
     "text": [
      "[]\n"
     ]
    }
   ],
   "source": [
    "#find all prime numbers within n \n",
    "# sieve of eratosthenes\n",
    "import math\n",
    "def sieveEratosthenes(n):\n",
    "    \n",
    "    primes = [False, False] +[True]*(n-2)\n",
    "    for i in range(2, math.isqrt(n)):\n",
    "        if primes[i]:\n",
    "            for j in range(i*i,n,i):\n",
    "                print(j)\n",
    "                primes[j] = False\n",
    "        \n",
    "    res = []\n",
    "    for i in range(len(primes)):\n",
    "        if primes[i] == True:\n",
    "            res.append(i)\n",
    "    return res\n",
    "print(sieveEratosthenes(1))\n"
   ]
  },
  {
   "cell_type": "code",
   "execution_count": 24,
   "metadata": {},
   "outputs": [
    {
     "name": "stdout",
     "output_type": "stream",
     "text": [
      "['0000', '0001', '0010', '0011', '0100', '0101', '0110', '0111', '1000', '1001', '1010', '1011', '1100', '1101', '1110', '1111']\n"
     ]
    }
   ],
   "source": [
    "#OV 1996 the number of weak characters in the game\n",
    "\n",
    "def numberOfWeakCharacters(properties):\n",
    "    properties.sort(key=lambda x:(-x[0],x[1]))\n",
    "    res = 0\n",
    "    cur_max = 0\n",
    "\n",
    "    for _, d in properties:\n",
    "        if d < cur_max:\n",
    "            res += 1\n",
    "        else:\n",
    "            cur_max = d\n",
    "    return res \n"
   ]
  },
  {
   "cell_type": "code",
   "execution_count": 14,
   "metadata": {},
   "outputs": [
    {
     "name": "stdout",
     "output_type": "stream",
     "text": [
      "5\n"
     ]
    }
   ],
   "source": [
    "from random import randint\n",
    "\n",
    "def partition(nums, left, right):\n",
    "    idx = randint(left, right)\n",
    "    pivot = nums[idx]\n",
    "    nums[idx],nums[right] = nums[right], nums[idx]\n",
    "    p_idx = left\n",
    "    for i in range(left, right+1):\n",
    "        if nums[i] > pivot:\n",
    "            nums[i],nums[p_idx] = nums[p_idx],nums[i]\n",
    "            p_idx += 1\n",
    "    nums[p_idx],nums[right] = nums[right], nums[p_idx]\n",
    "    return p_idx\n",
    "\n",
    "def quickselect(nums,left,right, k):\n",
    "    k = k-1\n",
    "    if left <= right:\n",
    "       \n",
    "        idx = partition(nums, left, right)\n",
    "        if k ==idx:\n",
    "            return nums[idx]\n",
    "        elif k <idx:\n",
    "            return quickselect(nums, left, idx-1,k)\n",
    "        else:\n",
    "            return quickselect(nums, idx+1, right, k)\n",
    "\n",
    "\n",
    "print(quickselect([1,2,4,5,3],0,4,1))"
   ]
  },
  {
   "cell_type": "code",
   "execution_count": 1,
   "metadata": {},
   "outputs": [
    {
     "name": "stdout",
     "output_type": "stream",
     "text": [
      "The maximum possible flow is 23 \n"
     ]
    }
   ],
   "source": [
    "# Python program for implementation \n",
    "# of Ford Fulkerson algorithm\n",
    "from collections import defaultdict\n",
    " \n",
    "# This class represents a directed graph \n",
    "# using adjacency matrix representation\n",
    "class Graph:\n",
    " \n",
    "    def __init__(self, graph):\n",
    "        self.graph = graph  # residual graph\n",
    "        self. ROW = len(graph)\n",
    "        # self.COL = len(gr[0])\n",
    " \n",
    "    '''Returns true if there is a path from source 's' to sink 't' in\n",
    "    residual graph. Also fills parent[] to store the path '''\n",
    " \n",
    "    def BFS(self, s, t, parent):\n",
    " \n",
    "        # Mark all the vertices as not visited\n",
    "        visited = [False]*(self.ROW)\n",
    " \n",
    "        # Create a queue for BFS\n",
    "        queue = []\n",
    " \n",
    "        # Mark the source node as visited and enqueue it\n",
    "        queue.append(s)\n",
    "        visited[s] = True\n",
    " \n",
    "         # Standard BFS Loop\n",
    "        while queue:\n",
    " \n",
    "            # Dequeue a vertex from queue and print it\n",
    "            u = queue.pop(0)\n",
    " \n",
    "            # Get all adjacent vertices of the dequeued vertex u\n",
    "            # If a adjacent has not been visited, then mark it\n",
    "            # visited and enqueue it\n",
    "            for ind, val in enumerate(self.graph[u]):\n",
    "                if visited[ind] == False and val > 0:\n",
    "                      # If we find a connection to the sink node, \n",
    "                    # then there is no point in BFS anymore\n",
    "                    # We just have to set its parent and can return true\n",
    "                    queue.append(ind)\n",
    "                    visited[ind] = True\n",
    "                    parent[ind] = u\n",
    "                    if ind == t:\n",
    "                        return True\n",
    " \n",
    "        # We didn't reach sink in BFS starting \n",
    "        # from source, so return false\n",
    "        return False\n",
    "             \n",
    "     \n",
    "    # Returns the maximum flow from s to t in the given graph\n",
    "    def FordFulkerson(self, source, sink):\n",
    " \n",
    "        # This array is filled by BFS and to store path\n",
    "        parent = [-1]*(self.ROW)\n",
    " \n",
    "        max_flow = 0 # There is no flow initially\n",
    " \n",
    "        # Augment the flow while there is path from source to sink\n",
    "        while self.BFS(source, sink, parent) :\n",
    " \n",
    "            # Find minimum residual capacity of the edges along the\n",
    "            # path filled by BFS. Or we can say find the maximum flow\n",
    "            # through the path found.\n",
    "            path_flow = float(\"Inf\")\n",
    "            s = sink\n",
    "            while(s !=  source):\n",
    "                path_flow = min (path_flow, self.graph[parent[s]][s])\n",
    "                s = parent[s]\n",
    " \n",
    "            # Add path flow to overall flow\n",
    "            max_flow +=  path_flow\n",
    " \n",
    "            # update residual capacities of the edges and reverse edges\n",
    "            # along the path\n",
    "            v = sink\n",
    "            while(v !=  source):\n",
    "                u = parent[v]\n",
    "                self.graph[u][v] -= path_flow\n",
    "                self.graph[v][u] += path_flow\n",
    "                v = parent[v]\n",
    " \n",
    "        return max_flow\n",
    " \n",
    "  \n",
    "# Create a graph given in the above diagram\n",
    " \n",
    "graph = [[0, 16, 13, 0, 0, 0],\n",
    "        [0, 0, 10, 12, 0, 0],\n",
    "        [0, 4, 0, 0, 14, 0],\n",
    "        [0, 0, 9, 0, 0, 20],\n",
    "        [0, 0, 0, 7, 0, 4],\n",
    "        [0, 0, 0, 0, 0, 0]]\n",
    " \n",
    "g = Graph(graph)\n",
    " \n",
    "source = 0; sink = 5\n",
    "  \n",
    "print (\"The maximum possible flow is %d \" % g.FordFulkerson(source, sink))"
   ]
  }
 ],
 "metadata": {
  "kernelspec": {
   "display_name": "Python 3.8.8 ('base')",
   "language": "python",
   "name": "python3"
  },
  "language_info": {
   "codemirror_mode": {
    "name": "ipython",
    "version": 3
   },
   "file_extension": ".py",
   "mimetype": "text/x-python",
   "name": "python",
   "nbconvert_exporter": "python",
   "pygments_lexer": "ipython3",
   "version": "3.9.0"
  },
  "orig_nbformat": 4,
  "vscode": {
   "interpreter": {
    "hash": "c60e1546e717a33657375132b5ef8db45d37f001b585af5337cd41bbd1753de5"
   }
  }
 },
 "nbformat": 4,
 "nbformat_minor": 2
}
